{
 "cells": [
  {
   "cell_type": "code",
   "execution_count": 3,
   "id": "alike-america",
   "metadata": {},
   "outputs": [],
   "source": [
    "import numpy as np\n",
    "import pandas as pd\n",
    "import os\n",
    "import matplotlib.pyplot as plt\n",
    "import seaborn as sns\n",
    "\n",
    "os.chdir(\"C:/Users/SAI VAMSHI/Desktop/MSU MSBA/Stout Case Study\")"
   ]
  },
  {
   "cell_type": "markdown",
   "id": "sunset-tracker",
   "metadata": {},
   "source": [
    "Reading the csv file pertaining to second case study"
   ]
  },
  {
   "cell_type": "code",
   "execution_count": 4,
   "id": "systematic-basket",
   "metadata": {},
   "outputs": [
    {
     "data": {
      "text/html": [
       "<div>\n",
       "<style scoped>\n",
       "    .dataframe tbody tr th:only-of-type {\n",
       "        vertical-align: middle;\n",
       "    }\n",
       "\n",
       "    .dataframe tbody tr th {\n",
       "        vertical-align: top;\n",
       "    }\n",
       "\n",
       "    .dataframe thead th {\n",
       "        text-align: right;\n",
       "    }\n",
       "</style>\n",
       "<table border=\"1\" class=\"dataframe\">\n",
       "  <thead>\n",
       "    <tr style=\"text-align: right;\">\n",
       "      <th></th>\n",
       "      <th>Unnamed: 0</th>\n",
       "      <th>customer_email</th>\n",
       "      <th>net_revenue</th>\n",
       "      <th>year</th>\n",
       "    </tr>\n",
       "  </thead>\n",
       "  <tbody>\n",
       "    <tr>\n",
       "      <th>0</th>\n",
       "      <td>0</td>\n",
       "      <td>nhknapwsbx@gmail.com</td>\n",
       "      <td>249.92</td>\n",
       "      <td>2015</td>\n",
       "    </tr>\n",
       "    <tr>\n",
       "      <th>1</th>\n",
       "      <td>1</td>\n",
       "      <td>joiuzbvcpn@gmail.com</td>\n",
       "      <td>87.61</td>\n",
       "      <td>2015</td>\n",
       "    </tr>\n",
       "    <tr>\n",
       "      <th>2</th>\n",
       "      <td>2</td>\n",
       "      <td>ukkjctepxt@gmail.com</td>\n",
       "      <td>168.38</td>\n",
       "      <td>2015</td>\n",
       "    </tr>\n",
       "    <tr>\n",
       "      <th>3</th>\n",
       "      <td>3</td>\n",
       "      <td>gykatilzrt@gmail.com</td>\n",
       "      <td>62.40</td>\n",
       "      <td>2015</td>\n",
       "    </tr>\n",
       "    <tr>\n",
       "      <th>4</th>\n",
       "      <td>4</td>\n",
       "      <td>mmsgsrtxah@gmail.com</td>\n",
       "      <td>43.08</td>\n",
       "      <td>2015</td>\n",
       "    </tr>\n",
       "  </tbody>\n",
       "</table>\n",
       "</div>"
      ],
      "text/plain": [
       "   Unnamed: 0         customer_email  net_revenue  year\n",
       "0           0   nhknapwsbx@gmail.com       249.92  2015\n",
       "1           1   joiuzbvcpn@gmail.com        87.61  2015\n",
       "2           2   ukkjctepxt@gmail.com       168.38  2015\n",
       "3           3   gykatilzrt@gmail.com        62.40  2015\n",
       "4           4   mmsgsrtxah@gmail.com        43.08  2015"
      ]
     },
     "execution_count": 4,
     "metadata": {},
     "output_type": "execute_result"
    }
   ],
   "source": [
    "df = pd.read_csv(\"casestudy.csv\")\n",
    "df.head()"
   ]
  },
  {
   "cell_type": "code",
   "execution_count": 8,
   "id": "alone-breeding",
   "metadata": {},
   "outputs": [
    {
     "data": {
      "text/plain": [
       "Unnamed: 0        0\n",
       "customer_email    0\n",
       "net_revenue       0\n",
       "year              0\n",
       "dtype: int64"
      ]
     },
     "execution_count": 8,
     "metadata": {},
     "output_type": "execute_result"
    }
   ],
   "source": [
    "df.isnull().sum()"
   ]
  },
  {
   "cell_type": "markdown",
   "id": "empirical-brisbane",
   "metadata": {},
   "source": [
    "The variable descriptions are\n",
    "* *customer_email* - Unique identifier for a customer\n",
    "* *net_revenue* - Revenue generated because of the customer during a particular year\n",
    "* *year* - Year\n",
    "\n",
    "According to the description, we can make a hypothesis that the unique key of this dataset is customer_email x year assuming only one row for one customer in one year. Let's prove the assumption by writing a small piece of code"
   ]
  },
  {
   "cell_type": "code",
   "execution_count": 5,
   "id": "charitable-illustration",
   "metadata": {},
   "outputs": [
    {
     "data": {
      "text/plain": [
       "(685927, 4)"
      ]
     },
     "execution_count": 5,
     "metadata": {},
     "output_type": "execute_result"
    }
   ],
   "source": [
    "df.shape"
   ]
  },
  {
   "cell_type": "code",
   "execution_count": 9,
   "id": "stylish-athletics",
   "metadata": {},
   "outputs": [
    {
     "data": {
      "text/plain": [
       "1.0"
      ]
     },
     "execution_count": 9,
     "metadata": {},
     "output_type": "execute_result"
    }
   ],
   "source": [
    "sum(df.groupby([\"customer_email\",\"year\"])[\"net_revenue\"].count()==1)/df.shape[0]"
   ]
  },
  {
   "cell_type": "code",
   "execution_count": 11,
   "id": "plain-stretch",
   "metadata": {},
   "outputs": [
    {
     "name": "stdout",
     "output_type": "stream",
     "text": [
      "0.875711606336563\n",
      "0.114096834695626\n",
      "0.010191558967811081\n"
     ]
    }
   ],
   "source": [
    "print(529471/(604618))\n",
    "print(68985/(604618))\n",
    "print(6162/(604618))"
   ]
  },
  {
   "cell_type": "code",
   "execution_count": 10,
   "id": "subjective-lighter",
   "metadata": {},
   "outputs": [
    {
     "data": {
      "text/plain": [
       "604618"
      ]
     },
     "execution_count": 10,
     "metadata": {},
     "output_type": "execute_result"
    }
   ],
   "source": [
    "df.customer_email.nunique()"
   ]
  },
  {
   "cell_type": "code",
   "execution_count": 15,
   "id": "incomplete-discharge",
   "metadata": {},
   "outputs": [
    {
     "data": {
      "image/png": "[encoded data removed]",
      "text/plain": [
       "<Figure size 432x288 with 1 Axes>"
      ]
     },
     "metadata": {
      "needs_background": "light"
     },
     "output_type": "display_data"
    }
   ],
   "source": [
    "sns.barplot(x=[\"One year of data\",\"Two years of data\",\"Three years of data\"],y=[87.6,11.4,1])\n",
    "plt.ylabel(\"% of customers\")\n",
    "plt.show()"
   ]
  },
  {
   "cell_type": "markdown",
   "id": "beginning-chart",
   "metadata": {},
   "source": [
    "From the above result we can tell that there is only observation for one year for one customer.\n",
    "\n",
    "Let's check whether customers data is present for all the possible years"
   ]
  },
  {
   "cell_type": "code",
   "execution_count": 9,
   "id": "spare-central",
   "metadata": {},
   "outputs": [
    {
     "data": {
      "text/plain": [
       "1    529471\n",
       "2     68985\n",
       "3      6162\n",
       "Name: Unnamed: 0, dtype: int64"
      ]
     },
     "execution_count": 9,
     "metadata": {},
     "output_type": "execute_result"
    }
   ],
   "source": [
    "df.groupby([\"customer_email\"])[\"Unnamed: 0\"].count().value_counts()"
   ]
  },
  {
   "cell_type": "markdown",
   "id": "union-employee",
   "metadata": {},
   "source": [
    "6162 customers have 3 years of data, 68985 customers have 2 years of data and 529471 customers have only 1 year of data.\n",
    "\n",
    "Let's make a simple visualization to check the years and revenue in each year"
   ]
  },
  {
   "cell_type": "code",
   "execution_count": 16,
   "id": "canadian-charger",
   "metadata": {},
   "outputs": [
    {
     "data": {
      "image/png": "[encoded data removed]",
      "text/plain": [
       "<Figure size 432x288 with 1 Axes>"
      ]
     },
     "metadata": {
      "needs_background": "light"
     },
     "output_type": "display_data"
    }
   ],
   "source": [
    "sns.barplot(x=df.year.unique(),y=df.groupby([\"year\"])[\"net_revenue\"].sum())\n",
    "plt.show()"
   ]
  },
  {
   "cell_type": "markdown",
   "id": "swedish-mainland",
   "metadata": {},
   "source": [
    "The above plot suggests that there are three years available in the data and 25M-30M revenue each year.\n",
    "\n",
    "Let's take the required information using Python codes\n",
    "\n",
    "## Total Revenue for the current year"
   ]
  },
  {
   "cell_type": "code",
   "execution_count": 17,
   "id": "developmental-nigeria",
   "metadata": {},
   "outputs": [
    {
     "data": {
      "text/html": [
       "<div>\n",
       "<style scoped>\n",
       "    .dataframe tbody tr th:only-of-type {\n",
       "        vertical-align: middle;\n",
       "    }\n",
       "\n",
       "    .dataframe tbody tr th {\n",
       "        vertical-align: top;\n",
       "    }\n",
       "\n",
       "    .dataframe thead th {\n",
       "        text-align: right;\n",
       "    }\n",
       "</style>\n",
       "<table border=\"1\" class=\"dataframe\">\n",
       "  <thead>\n",
       "    <tr style=\"text-align: right;\">\n",
       "      <th></th>\n",
       "      <th>year</th>\n",
       "      <th>net_revenue</th>\n",
       "    </tr>\n",
       "  </thead>\n",
       "  <tbody>\n",
       "    <tr>\n",
       "      <th>0</th>\n",
       "      <td>2015</td>\n",
       "      <td>29036749.19</td>\n",
       "    </tr>\n",
       "    <tr>\n",
       "      <th>1</th>\n",
       "      <td>2016</td>\n",
       "      <td>25730943.59</td>\n",
       "    </tr>\n",
       "    <tr>\n",
       "      <th>2</th>\n",
       "      <td>2017</td>\n",
       "      <td>31417495.03</td>\n",
       "    </tr>\n",
       "  </tbody>\n",
       "</table>\n",
       "</div>"
      ],
      "text/plain": [
       "   year  net_revenue\n",
       "0  2015  29036749.19\n",
       "1  2016  25730943.59\n",
       "2  2017  31417495.03"
      ]
     },
     "execution_count": 17,
     "metadata": {},
     "output_type": "execute_result"
    }
   ],
   "source": [
    "df.groupby([\"year\"])[\"net_revenue\"].sum().reset_index()"
   ]
  },
  {
   "cell_type": "markdown",
   "id": "furnished-telling",
   "metadata": {},
   "source": [
    "## New Customer Revenue e.g. new customers not present in previous year only\n",
    "\n",
    "We cannot calculate the new customer revenue of 2015 as we don't know the prior data.\n",
    "\n",
    "Also, a customer is considered new even if there are sales in 2015 but no sales in 2016 and again sales in 2017 as suggested from the question"
   ]
  },
  {
   "cell_type": "code",
   "execution_count": 118,
   "id": "outstanding-truck",
   "metadata": {},
   "outputs": [],
   "source": [
    "df = df.sort_values([\"customer_email\", \"year\"])\n",
    "df[\"yeardiff\"] = df.groupby(\"customer_email\")[\"year\"].diff().fillna(0)"
   ]
  },
  {
   "cell_type": "markdown",
   "id": "brave-eagle",
   "metadata": {},
   "source": [
    "If the difference of years between consecutive observations is 0, we can assume that the customer is new customer. For 2016 and 2017 years, we can calculate the new customer revenue"
   ]
  },
  {
   "cell_type": "code",
   "execution_count": 123,
   "id": "former-shore",
   "metadata": {},
   "outputs": [
    {
     "data": {
      "text/plain": [
       "year\n",
       "2016    18245491.01\n",
       "2017    28676607.64\n",
       "Name: net_revenue, dtype: float64"
      ]
     },
     "execution_count": 123,
     "metadata": {},
     "output_type": "execute_result"
    }
   ],
   "source": [
    "df[df.yeardiff==0].groupby(\"year\")[\"net_revenue\"].sum().tail(2)"
   ]
  },
  {
   "cell_type": "markdown",
   "id": "peripheral-logic",
   "metadata": {},
   "source": [
    "The above analysis takes lot of memory and space. We can calculate new customer revenue using an easy method as below"
   ]
  },
  {
   "cell_type": "code",
   "execution_count": 117,
   "id": "cooperative-jesus",
   "metadata": {},
   "outputs": [
    {
     "data": {
      "text/html": [
       "<div>\n",
       "<style scoped>\n",
       "    .dataframe tbody tr th:only-of-type {\n",
       "        vertical-align: middle;\n",
       "    }\n",
       "\n",
       "    .dataframe tbody tr th {\n",
       "        vertical-align: top;\n",
       "    }\n",
       "\n",
       "    .dataframe thead th {\n",
       "        text-align: right;\n",
       "    }\n",
       "</style>\n",
       "<table border=\"1\" class=\"dataframe\">\n",
       "  <thead>\n",
       "    <tr style=\"text-align: right;\">\n",
       "      <th></th>\n",
       "      <th>year_x</th>\n",
       "      <th>net_revenue</th>\n",
       "    </tr>\n",
       "  </thead>\n",
       "  <tbody>\n",
       "    <tr>\n",
       "      <th>1</th>\n",
       "      <td>2016</td>\n",
       "      <td>18245491.01</td>\n",
       "    </tr>\n",
       "    <tr>\n",
       "      <th>2</th>\n",
       "      <td>2017</td>\n",
       "      <td>28676607.64</td>\n",
       "    </tr>\n",
       "  </tbody>\n",
       "</table>\n",
       "</div>"
      ],
      "text/plain": [
       "   year_x  net_revenue\n",
       "1    2016  18245491.01\n",
       "2    2017  28676607.64"
      ]
     },
     "execution_count": 117,
     "metadata": {},
     "output_type": "execute_result"
    }
   ],
   "source": [
    "#Getting the minimum year of every customer and a customer is new if the min year is equal to current year\n",
    "df_minyear = pd.merge(df,df.groupby([\"customer_email\"])[\"year\"].min().reset_index(),on=\"customer_email\").drop_duplicates()\n",
    "df_minyear[df_minyear.year_x==df_minyear.year_y].groupby([\"year_x\"])[\"net_revenue\"].sum().reset_index().tail(2)"
   ]
  },
  {
   "cell_type": "markdown",
   "id": "funny-columbus",
   "metadata": {},
   "source": [
    "## Existing Customer Growth, Revenue of existing customers for current year – Revenue of existing customers from existing year\n",
    "\n",
    "We can only calculate customer growth for 2016 and 2017 years and old customers."
   ]
  },
  {
   "cell_type": "code",
   "execution_count": 126,
   "id": "outer-buddy",
   "metadata": {},
   "outputs": [
    {
     "data": {
      "text/plain": [
       "year\n",
       "2016    20335.46\n",
       "2017    20611.34\n",
       "Name: net_revenue, dtype: float64"
      ]
     },
     "execution_count": 126,
     "metadata": {},
     "output_type": "execute_result"
    }
   ],
   "source": [
    "#Revenue of existing customers for current year\n",
    "revenue_currentyear = df[df.yeardiff==1].groupby(\"year\")[\"net_revenue\"].sum()\n",
    "#Revenue of existing customers for existing year\n",
    "df[\"nextyear\"] = df[\"year\"] + 1\n",
    "df_existing = pd.merge(df,df_minyear[df_minyear.year_x!=df_minyear.year_y][[\"customer_email\",\"year_x\"]].drop_duplicates(),left_on=[\"customer_email\",\"nextyear\"],right_on=[\"customer_email\",\"year_x\"])\n",
    "revenue_existingyear = df_existing.groupby(\"nextyear\")[\"net_revenue\"].sum()\n",
    "#Revenue growth\n",
    "revenue_currentyear - revenue_existingyear"
   ]
  },
  {
   "cell_type": "markdown",
   "id": "infectious-static",
   "metadata": {},
   "source": [
    "We can do the above analysis using another method but it takes lot of memory and time"
   ]
  },
  {
   "cell_type": "code",
   "execution_count": 128,
   "id": "emotional-banking",
   "metadata": {},
   "outputs": [
    {
     "data": {
      "text/plain": [
       "year\n",
       "2016    20335.46\n",
       "2017    20611.34\n",
       "Name: rev_growth, dtype: float64"
      ]
     },
     "execution_count": 128,
     "metadata": {},
     "output_type": "execute_result"
    }
   ],
   "source": [
    "df = df.sort_values([\"customer_email\", \"year\"])\n",
    "df[\"rev_growth\"] = df.groupby([\"customer_email\"])[\"net_revenue\"].diff().fillna(0)\n",
    "df[df.yeardiff==1].groupby(\"year\")[\"rev_growth\"].sum()"
   ]
  },
  {
   "cell_type": "markdown",
   "id": "superior-drilling",
   "metadata": {},
   "source": [
    "## Revenue lost from attrition\n",
    "\n",
    "To get revenue lost from attrition, we have to make an assumption that the customers attrited will generated same amount of sales if they haven't attrited."
   ]
  },
  {
   "cell_type": "code",
   "execution_count": 113,
   "id": "impaired-fireplace",
   "metadata": {},
   "outputs": [
    {
     "data": {
      "text/html": [
       "<div>\n",
       "<style scoped>\n",
       "    .dataframe tbody tr th:only-of-type {\n",
       "        vertical-align: middle;\n",
       "    }\n",
       "\n",
       "    .dataframe tbody tr th {\n",
       "        vertical-align: top;\n",
       "    }\n",
       "\n",
       "    .dataframe thead th {\n",
       "        text-align: right;\n",
       "    }\n",
       "</style>\n",
       "<table border=\"1\" class=\"dataframe\">\n",
       "  <thead>\n",
       "    <tr style=\"text-align: right;\">\n",
       "      <th></th>\n",
       "      <th>year_x</th>\n",
       "      <th>net_revenue</th>\n",
       "    </tr>\n",
       "  </thead>\n",
       "  <tbody>\n",
       "    <tr>\n",
       "      <th>0</th>\n",
       "      <td>2015</td>\n",
       "      <td>2.147600e+07</td>\n",
       "    </tr>\n",
       "    <tr>\n",
       "      <th>1</th>\n",
       "      <td>2016</td>\n",
       "      <td>2.311029e+07</td>\n",
       "    </tr>\n",
       "  </tbody>\n",
       "</table>\n",
       "</div>"
      ],
      "text/plain": [
       "   year_x   net_revenue\n",
       "0    2015  2.147600e+07\n",
       "1    2016  2.311029e+07"
      ]
     },
     "execution_count": 113,
     "metadata": {},
     "output_type": "execute_result"
    }
   ],
   "source": [
    "#Customers whose max year is the current year are the customers who got attrited\n",
    "df_maxyear = pd.merge(df,df.groupby([\"customer_email\"])[\"year\"].max().reset_index(),on=\"customer_email\").drop_duplicates()\n",
    "df_maxyear[df_maxyear.year_x==df_maxyear.year_y].groupby([\"year_x\"])[\"net_revenue\"].sum().reset_index().head(2)"
   ]
  },
  {
   "cell_type": "markdown",
   "id": "excess-director",
   "metadata": {},
   "source": [
    "Since we don't know the 2018 data, we have to ignore 2017 attrition revenue\n",
    "\n",
    "So the total revenue lost from attrition across 2015 and 2016 is ~45M (22 in 2015+23 in 2016)"
   ]
  },
  {
   "cell_type": "markdown",
   "id": "supreme-rugby",
   "metadata": {},
   "source": [
    "## Existing Customer Revenue Current Year\n",
    "\n",
    "Since we can know whether a customer is a new or old for 2016 and 2017 years only, the data is present for 2 years"
   ]
  },
  {
   "cell_type": "code",
   "execution_count": 127,
   "id": "qualified-berry",
   "metadata": {},
   "outputs": [
    {
     "data": {
      "text/plain": [
       "year\n",
       "2016    7485452.58\n",
       "2017    2641259.99\n",
       "Name: net_revenue, dtype: float64"
      ]
     },
     "execution_count": 127,
     "metadata": {},
     "output_type": "execute_result"
    }
   ],
   "source": [
    "df[df.yeardiff==1].groupby(\"year\")[\"net_revenue\"].sum()"
   ]
  },
  {
   "cell_type": "markdown",
   "id": "combined-crowd",
   "metadata": {},
   "source": [
    "## Existing Customer Revenue Prior Year"
   ]
  },
  {
   "cell_type": "code",
   "execution_count": 99,
   "id": "pharmaceutical-operation",
   "metadata": {},
   "outputs": [
    {
     "data": {
      "text/plain": [
       "nextyear\n",
       "2016    7465117.12\n",
       "2017    2620648.65\n",
       "Name: net_revenue, dtype: float64"
      ]
     },
     "execution_count": 99,
     "metadata": {},
     "output_type": "execute_result"
    }
   ],
   "source": [
    "df[\"nextyear\"] = df[\"year\"] + 1\n",
    "df_existing = pd.merge(df,df_minyear[df_minyear.year_x!=df_minyear.year_y][[\"customer_email\",\"year_x\"]].drop_duplicates(),left_on=[\"customer_email\",\"nextyear\"],right_on=[\"customer_email\",\"year_x\"])\n",
    "df_existing.groupby(\"nextyear\")[\"net_revenue\"].sum()"
   ]
  },
  {
   "cell_type": "markdown",
   "id": "delayed-dakota",
   "metadata": {},
   "source": [
    "## Total Customers Current Year"
   ]
  },
  {
   "cell_type": "code",
   "execution_count": 105,
   "id": "undefined-catch",
   "metadata": {},
   "outputs": [
    {
     "data": {
      "text/plain": [
       "year\n",
       "2015    231294\n",
       "2016    204646\n",
       "2017    249987\n",
       "Name: customer_email, dtype: int64"
      ]
     },
     "execution_count": 105,
     "metadata": {},
     "output_type": "execute_result"
    }
   ],
   "source": [
    "df.groupby([\"year\"])[\"customer_email\"].count()"
   ]
  },
  {
   "cell_type": "markdown",
   "id": "sealed-blogger",
   "metadata": {},
   "source": [
    "## Total Customers Previous Year"
   ]
  },
  {
   "cell_type": "code",
   "execution_count": 114,
   "id": "continuing-justice",
   "metadata": {},
   "outputs": [
    {
     "data": {
      "text/plain": [
       "year\n",
       "2016    231294.0\n",
       "2017    204646.0\n",
       "Name: customer_email, dtype: float64"
      ]
     },
     "execution_count": 114,
     "metadata": {},
     "output_type": "execute_result"
    }
   ],
   "source": [
    "df.groupby([\"year\"])[\"customer_email\"].count().shift(1).tail(2)"
   ]
  },
  {
   "cell_type": "markdown",
   "id": "excessive-subscriber",
   "metadata": {},
   "source": [
    "## New Customers\n",
    "\n",
    "We can do this in the same way as we calculated new customer revenue"
   ]
  },
  {
   "cell_type": "code",
   "execution_count": 115,
   "id": "angry-handy",
   "metadata": {},
   "outputs": [
    {
     "data": {
      "text/html": [
       "<div>\n",
       "<style scoped>\n",
       "    .dataframe tbody tr th:only-of-type {\n",
       "        vertical-align: middle;\n",
       "    }\n",
       "\n",
       "    .dataframe tbody tr th {\n",
       "        vertical-align: top;\n",
       "    }\n",
       "\n",
       "    .dataframe thead th {\n",
       "        text-align: right;\n",
       "    }\n",
       "</style>\n",
       "<table border=\"1\" class=\"dataframe\">\n",
       "  <thead>\n",
       "    <tr style=\"text-align: right;\">\n",
       "      <th></th>\n",
       "      <th>year_x</th>\n",
       "      <th>customer_email</th>\n",
       "    </tr>\n",
       "  </thead>\n",
       "  <tbody>\n",
       "    <tr>\n",
       "      <th>1</th>\n",
       "      <td>2016</td>\n",
       "      <td>145062</td>\n",
       "    </tr>\n",
       "    <tr>\n",
       "      <th>2</th>\n",
       "      <td>2017</td>\n",
       "      <td>228262</td>\n",
       "    </tr>\n",
       "  </tbody>\n",
       "</table>\n",
       "</div>"
      ],
      "text/plain": [
       "   year_x  customer_email\n",
       "1    2016          145062\n",
       "2    2017          228262"
      ]
     },
     "execution_count": 115,
     "metadata": {},
     "output_type": "execute_result"
    }
   ],
   "source": [
    "df_minyear = pd.merge(df,df.groupby([\"customer_email\"])[\"year\"].min().reset_index(),on=\"customer_email\").drop_duplicates()\n",
    "df_minyear[df_minyear.year_x==df_minyear.year_y].groupby([\"year_x\"])[\"customer_email\"].count().reset_index().tail(2)"
   ]
  },
  {
   "cell_type": "markdown",
   "id": "banner-zoning",
   "metadata": {},
   "source": [
    "## Lost Customers\n",
    "\n",
    "We can do this in the same way as we calculated revenue lost from attrition"
   ]
  },
  {
   "cell_type": "code",
   "execution_count": 116,
   "id": "multiple-belgium",
   "metadata": {},
   "outputs": [
    {
     "data": {
      "text/html": [
       "<div>\n",
       "<style scoped>\n",
       "    .dataframe tbody tr th:only-of-type {\n",
       "        vertical-align: middle;\n",
       "    }\n",
       "\n",
       "    .dataframe tbody tr th {\n",
       "        vertical-align: top;\n",
       "    }\n",
       "\n",
       "    .dataframe thead th {\n",
       "        text-align: right;\n",
       "    }\n",
       "</style>\n",
       "<table border=\"1\" class=\"dataframe\">\n",
       "  <thead>\n",
       "    <tr style=\"text-align: right;\">\n",
       "      <th></th>\n",
       "      <th>year_x</th>\n",
       "      <th>customer_email</th>\n",
       "    </tr>\n",
       "  </thead>\n",
       "  <tbody>\n",
       "    <tr>\n",
       "      <th>0</th>\n",
       "      <td>2015</td>\n",
       "      <td>170944</td>\n",
       "    </tr>\n",
       "    <tr>\n",
       "      <th>1</th>\n",
       "      <td>2016</td>\n",
       "      <td>183687</td>\n",
       "    </tr>\n",
       "  </tbody>\n",
       "</table>\n",
       "</div>"
      ],
      "text/plain": [
       "   year_x  customer_email\n",
       "0    2015          170944\n",
       "1    2016          183687"
      ]
     },
     "execution_count": 116,
     "metadata": {},
     "output_type": "execute_result"
    }
   ],
   "source": [
    "df_maxyear = pd.merge(df,df.groupby([\"customer_email\"])[\"year\"].max().reset_index(),on=\"customer_email\").drop_duplicates()\n",
    "df_maxyear[df_maxyear.year_x==df_maxyear.year_y].groupby([\"year_x\"])[\"customer_email\"].count().reset_index().head(2)"
   ]
  },
  {
   "cell_type": "markdown",
   "id": "reserved-february",
   "metadata": {},
   "source": [
    "We have to remove the 2017 value as we don't know whether the customer is lost or not"
   ]
  },
  {
   "cell_type": "markdown",
   "id": "chinese-validation",
   "metadata": {},
   "source": [
    "Let's get all the results into one table"
   ]
  },
  {
   "cell_type": "code",
   "execution_count": 131,
   "id": "medical-fraud",
   "metadata": {},
   "outputs": [],
   "source": [
    "q1 = df.groupby([\"year\"])[\"net_revenue\"].sum()\n",
    "q2 = df_minyear[df_minyear.year_x==df_minyear.year_y].groupby([\"year_x\"])[\"net_revenue\"].sum().tail(2)\n",
    "q3 = (revenue_currentyear - revenue_existingyear)\n",
    "q4 = df_maxyear[df_maxyear.year_x==df_maxyear.year_y].groupby([\"year_x\"])[\"net_revenue\"].sum().head(2)\n",
    "q5 = df[df.yeardiff==1].groupby(\"year\")[\"net_revenue\"].sum()\n",
    "q6 = df_existing.groupby(\"nextyear\")[\"net_revenue\"].sum()\n",
    "q7 = df.groupby([\"year\"])[\"customer_email\"].count()\n",
    "q8 = df.groupby([\"year\"])[\"customer_email\"].count().shift(1).tail(2)\n",
    "q9 = df_minyear[df_minyear.year_x==df_minyear.year_y].groupby([\"year_x\"])[\"customer_email\"].count().tail(2)\n",
    "q10 = df_maxyear[df_maxyear.year_x==df_maxyear.year_y].groupby([\"year_x\"])[\"customer_email\"].count().head(2)\n"
   ]
  },
  {
   "cell_type": "code",
   "execution_count": 137,
   "id": "living-extension",
   "metadata": {},
   "outputs": [],
   "source": [
    "final_data = pd.concat([q1,q2,q3,q4,q5,q6,q7,q8,q9,q10],axis=1)\n",
    "final_data.columns = [\"Total Revenue Current Year\",\n",
    "                      \"New Customer Revenue\",\n",
    "                      \"Existing Customer Growth\",\n",
    "                      \"Revenue lost from attrition\",\n",
    "                      \"Existing customer revenue current year\",\n",
    "                      \"Existing customer revenue previous year\",\n",
    "                      \"Total customers current year\",\n",
    "                      \"Total customers previous year\",\n",
    "                      \"New Customers\",\n",
    "                      \"Lost Customers\"]"
   ]
  },
  {
   "cell_type": "code",
   "execution_count": 138,
   "id": "overhead-weekly",
   "metadata": {},
   "outputs": [
    {
     "data": {
      "text/html": [
       "<div>\n",
       "<style scoped>\n",
       "    .dataframe tbody tr th:only-of-type {\n",
       "        vertical-align: middle;\n",
       "    }\n",
       "\n",
       "    .dataframe tbody tr th {\n",
       "        vertical-align: top;\n",
       "    }\n",
       "\n",
       "    .dataframe thead th {\n",
       "        text-align: right;\n",
       "    }\n",
       "</style>\n",
       "<table border=\"1\" class=\"dataframe\">\n",
       "  <thead>\n",
       "    <tr style=\"text-align: right;\">\n",
       "      <th></th>\n",
       "      <th>Total Revenue Current Year</th>\n",
       "      <th>New Customer Revenue</th>\n",
       "      <th>Existing Customer Growth</th>\n",
       "      <th>Revenue lost from attrition</th>\n",
       "      <th>Existing customer revenue current year</th>\n",
       "      <th>Existing customer revenue previous year</th>\n",
       "      <th>Total customers current year</th>\n",
       "      <th>Total customers previous year</th>\n",
       "      <th>New Customers</th>\n",
       "      <th>Lost Customers</th>\n",
       "    </tr>\n",
       "  </thead>\n",
       "  <tbody>\n",
       "    <tr>\n",
       "      <th>2015</th>\n",
       "      <td>29036749.19</td>\n",
       "      <td>NaN</td>\n",
       "      <td>NaN</td>\n",
       "      <td>2.147600e+07</td>\n",
       "      <td>NaN</td>\n",
       "      <td>NaN</td>\n",
       "      <td>231294</td>\n",
       "      <td>NaN</td>\n",
       "      <td>NaN</td>\n",
       "      <td>170944.0</td>\n",
       "    </tr>\n",
       "    <tr>\n",
       "      <th>2016</th>\n",
       "      <td>25730943.59</td>\n",
       "      <td>18245491.01</td>\n",
       "      <td>20335.46</td>\n",
       "      <td>2.311029e+07</td>\n",
       "      <td>7485452.58</td>\n",
       "      <td>7465117.12</td>\n",
       "      <td>204646</td>\n",
       "      <td>231294.0</td>\n",
       "      <td>145062.0</td>\n",
       "      <td>183687.0</td>\n",
       "    </tr>\n",
       "    <tr>\n",
       "      <th>2017</th>\n",
       "      <td>31417495.03</td>\n",
       "      <td>28676607.64</td>\n",
       "      <td>20611.34</td>\n",
       "      <td>NaN</td>\n",
       "      <td>2641259.99</td>\n",
       "      <td>2620648.65</td>\n",
       "      <td>249987</td>\n",
       "      <td>204646.0</td>\n",
       "      <td>228262.0</td>\n",
       "      <td>NaN</td>\n",
       "    </tr>\n",
       "  </tbody>\n",
       "</table>\n",
       "</div>"
      ],
      "text/plain": [
       "      Total Revenue Current Year  New Customer Revenue  \\\n",
       "2015                 29036749.19                   NaN   \n",
       "2016                 25730943.59           18245491.01   \n",
       "2017                 31417495.03           28676607.64   \n",
       "\n",
       "      Existing Customer Growth  Revenue lost from attrition  \\\n",
       "2015                       NaN                 2.147600e+07   \n",
       "2016                  20335.46                 2.311029e+07   \n",
       "2017                  20611.34                          NaN   \n",
       "\n",
       "      Existing customer revenue current year  \\\n",
       "2015                                     NaN   \n",
       "2016                              7485452.58   \n",
       "2017                              2641259.99   \n",
       "\n",
       "      Existing customer revenue previous year  Total customers current year  \\\n",
       "2015                                      NaN                        231294   \n",
       "2016                               7465117.12                        204646   \n",
       "2017                               2620648.65                        249987   \n",
       "\n",
       "      Total customers previous year  New Customers  Lost Customers  \n",
       "2015                            NaN            NaN        170944.0  \n",
       "2016                       231294.0       145062.0        183687.0  \n",
       "2017                       204646.0       228262.0             NaN  "
      ]
     },
     "execution_count": 138,
     "metadata": {},
     "output_type": "execute_result"
    }
   ],
   "source": [
    "final_data"
   ]
  },
  {
   "cell_type": "code",
   "execution_count": 2,
   "id": "fifth-cancer",
   "metadata": {},
   "outputs": [
    {
     "data": {
      "text/plain": [
       "0"
      ]
     },
     "execution_count": 2,
     "metadata": {},
     "output_type": "execute_result"
    }
   ],
   "source": [
    "import os\n",
    "os.chdir(\"C:/Users/SAI VAMSHI/Desktop/MSU MSBA/Stout Case Study\")\n",
    "os.system('jupyter nbconvert --to html Question2.ipynb')"
   ]
  },
  {
   "cell_type": "code",
   "execution_count": null,
   "id": "obvious-nicholas",
   "metadata": {},
   "outputs": [],
   "source": []
  }
 ],
 "metadata": {
  "kernelspec": {
   "display_name": "Python 3",
   "language": "python",
   "name": "python3"
  },
  "language_info": {
   "codemirror_mode": {
    "name": "ipython",
    "version": 3
   },
   "file_extension": ".py",
   "mimetype": "text/x-python",
   "name": "python",
   "nbconvert_exporter": "python",
   "pygments_lexer": "ipython3",
   "version": "3.7.1"
  }
 },
 "nbformat": 4,
 "nbformat_minor": 5
}
